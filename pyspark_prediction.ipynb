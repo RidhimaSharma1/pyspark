{
  "nbformat": 4,
  "nbformat_minor": 0,
  "metadata": {
    "colab": {
      "name": "pyspark_prediction.ipynb",
      "provenance": []
    },
    "kernelspec": {
      "name": "python3",
      "display_name": "Python 3"
    },
    "language_info": {
      "name": "python"
    }
  },
  "cells": [
    {
      "cell_type": "code",
      "execution_count": 1,
      "metadata": {
        "colab": {
          "base_uri": "https://localhost:8080/"
        },
        "id": "Mfll-MmiOd1y",
        "outputId": "8bceda7e-c1dc-4790-9276-fbd6cbbe3b4e"
      },
      "outputs": [
        {
          "output_type": "stream",
          "name": "stdout",
          "text": [
            "Collecting pyspark\n",
            "  Downloading pyspark-3.2.1.tar.gz (281.4 MB)\n",
            "\u001b[K     |████████████████████████████████| 281.4 MB 30 kB/s \n",
            "\u001b[?25hCollecting py4j==0.10.9.3\n",
            "  Downloading py4j-0.10.9.3-py2.py3-none-any.whl (198 kB)\n",
            "\u001b[K     |████████████████████████████████| 198 kB 54.5 MB/s \n",
            "\u001b[?25hBuilding wheels for collected packages: pyspark\n",
            "  Building wheel for pyspark (setup.py) ... \u001b[?25l\u001b[?25hdone\n",
            "  Created wheel for pyspark: filename=pyspark-3.2.1-py2.py3-none-any.whl size=281853642 sha256=cf4b6312918fa357bc32e6e921351b550817468f3bb2019e5b6e780851b823a5\n",
            "  Stored in directory: /root/.cache/pip/wheels/9f/f5/07/7cd8017084dce4e93e84e92efd1e1d5334db05f2e83bcef74f\n",
            "Successfully built pyspark\n",
            "Installing collected packages: py4j, pyspark\n",
            "Successfully installed py4j-0.10.9.3 pyspark-3.2.1\n"
          ]
        }
      ],
      "source": [
        "pip install pyspark"
      ]
    },
    {
      "cell_type": "code",
      "source": [
        "from pyspark.sql import SparkSession\n",
        "\n",
        "spark = SparkSession.builder\\\n",
        "        .master(\"local[*]\")\\\n",
        "        .appName('PySpark for Prediction')\\\n",
        "        .getOrCreate()"
      ],
      "metadata": {
        "id": "DGOXZ908Op2R"
      },
      "execution_count": 2,
      "outputs": []
    },
    {
      "cell_type": "code",
      "source": [
        "df=spark.read.csv('flights-larger.csv', sep =',', header=True, inferSchema=True, nullValue='NA')"
      ],
      "metadata": {
        "id": "mDw0OdJDSHZH"
      },
      "execution_count": 15,
      "outputs": []
    },
    {
      "cell_type": "code",
      "source": [
        "df.show(5)"
      ],
      "metadata": {
        "colab": {
          "base_uri": "https://localhost:8080/"
        },
        "id": "lVY0Ob-b5xX2",
        "outputId": "8287b9ab-8fcc-4ebc-a459-7c717efd4776"
      },
      "execution_count": 4,
      "outputs": [
        {
          "output_type": "stream",
          "name": "stdout",
          "text": [
            "+---+---+---+-------+------+---+----+------+--------+-----+\n",
            "|mon|dom|dow|carrier|flight|org|mile|depart|duration|delay|\n",
            "+---+---+---+-------+------+---+----+------+--------+-----+\n",
            "| 10| 10|  1|     OO|  5836|ORD| 157|  8.18|      51|   27|\n",
            "|  1|  4|  1|     OO|  5866|ORD| 466|  15.5|     102| null|\n",
            "| 11| 22|  1|     OO|  6016|ORD| 738|  7.17|     127|  -19|\n",
            "|  2| 14|  5|     B6|   199|JFK|2248| 21.17|     365|   60|\n",
            "|  5| 25|  3|     WN|  1675|SJC| 386| 12.92|      85|   22|\n",
            "+---+---+---+-------+------+---+----+------+--------+-----+\n",
            "only showing top 5 rows\n",
            "\n"
          ]
        }
      ]
    },
    {
      "cell_type": "code",
      "source": [
        "df.dtypes"
      ],
      "metadata": {
        "colab": {
          "base_uri": "https://localhost:8080/"
        },
        "id": "3y2NtyD07YIU",
        "outputId": "c5d382c9-dd0d-48fe-e94a-86ddb0a2c60b"
      },
      "execution_count": 5,
      "outputs": [
        {
          "output_type": "execute_result",
          "data": {
            "text/plain": [
              "[('mon', 'int'),\n",
              " ('dom', 'int'),\n",
              " ('dow', 'int'),\n",
              " ('carrier', 'string'),\n",
              " ('flight', 'int'),\n",
              " ('org', 'string'),\n",
              " ('mile', 'int'),\n",
              " ('depart', 'double'),\n",
              " ('duration', 'int'),\n",
              " ('delay', 'int')]"
            ]
          },
          "metadata": {},
          "execution_count": 5
        }
      ]
    },
    {
      "cell_type": "code",
      "source": [
        "df.take(5)"
      ],
      "metadata": {
        "colab": {
          "base_uri": "https://localhost:8080/"
        },
        "id": "r8UK3Ils7ffp",
        "outputId": "ef6edb52-4532-4826-a9c1-3fff7eddb3a6"
      },
      "execution_count": 6,
      "outputs": [
        {
          "output_type": "execute_result",
          "data": {
            "text/plain": [
              "[Row(mon=10, dom=10, dow=1, carrier='OO', flight=5836, org='ORD', mile=157, depart=8.18, duration=51, delay=27),\n",
              " Row(mon=1, dom=4, dow=1, carrier='OO', flight=5866, org='ORD', mile=466, depart=15.5, duration=102, delay=None),\n",
              " Row(mon=11, dom=22, dow=1, carrier='OO', flight=6016, org='ORD', mile=738, depart=7.17, duration=127, delay=-19),\n",
              " Row(mon=2, dom=14, dow=5, carrier='B6', flight=199, org='JFK', mile=2248, depart=21.17, duration=365, delay=60),\n",
              " Row(mon=5, dom=25, dow=3, carrier='WN', flight=1675, org='SJC', mile=386, depart=12.92, duration=85, delay=22)]"
            ]
          },
          "metadata": {},
          "execution_count": 6
        }
      ]
    },
    {
      "cell_type": "code",
      "source": [
        "df.describe()"
      ],
      "metadata": {
        "colab": {
          "base_uri": "https://localhost:8080/"
        },
        "id": "jdQyqcua7sX5",
        "outputId": "0ba18ac4-5a9b-46c3-ae1f-b8bbd5548418"
      },
      "execution_count": 7,
      "outputs": [
        {
          "output_type": "execute_result",
          "data": {
            "text/plain": [
              "DataFrame[summary: string, mon: string, dom: string, dow: string, carrier: string, flight: string, org: string, mile: string, depart: string, duration: string, delay: string]"
            ]
          },
          "metadata": {},
          "execution_count": 7
        }
      ]
    },
    {
      "cell_type": "code",
      "source": [
        "df.count()"
      ],
      "metadata": {
        "colab": {
          "base_uri": "https://localhost:8080/"
        },
        "id": "jI-BDE037xFQ",
        "outputId": "ee32f7f6-b299-4ba1-e34c-b1120beb7ea4"
      },
      "execution_count": 16,
      "outputs": [
        {
          "output_type": "execute_result",
          "data": {
            "text/plain": [
              "275000"
            ]
          },
          "metadata": {},
          "execution_count": 16
        }
      ]
    },
    {
      "cell_type": "code",
      "source": [
        "df.distinct()"
      ],
      "metadata": {
        "colab": {
          "base_uri": "https://localhost:8080/"
        },
        "id": "0se6YYQA_Wnv",
        "outputId": "6462f6cd-8195-4c64-c30c-e6fad7973c10"
      },
      "execution_count": 9,
      "outputs": [
        {
          "output_type": "execute_result",
          "data": {
            "text/plain": [
              "DataFrame[mon: int, dom: int, dow: int, carrier: string, flight: int, org: string, mile: int, depart: double, duration: int, delay: int]"
            ]
          },
          "metadata": {},
          "execution_count": 9
        }
      ]
    },
    {
      "cell_type": "code",
      "source": [
        "df.show(5)"
      ],
      "metadata": {
        "colab": {
          "base_uri": "https://localhost:8080/"
        },
        "id": "Unnisz9w_e5G",
        "outputId": "9650d2b3-a0f2-4a83-89df-a4e04a7805c4"
      },
      "execution_count": 10,
      "outputs": [
        {
          "output_type": "stream",
          "name": "stdout",
          "text": [
            "+---+---+---+-------+------+---+----+------+--------+-----+\n",
            "|mon|dom|dow|carrier|flight|org|mile|depart|duration|delay|\n",
            "+---+---+---+-------+------+---+----+------+--------+-----+\n",
            "| 10| 10|  1|     OO|  5836|ORD| 157|  8.18|      51|   27|\n",
            "|  1|  4|  1|     OO|  5866|ORD| 466|  15.5|     102| null|\n",
            "| 11| 22|  1|     OO|  6016|ORD| 738|  7.17|     127|  -19|\n",
            "|  2| 14|  5|     B6|   199|JFK|2248| 21.17|     365|   60|\n",
            "|  5| 25|  3|     WN|  1675|SJC| 386| 12.92|      85|   22|\n",
            "+---+---+---+-------+------+---+----+------+--------+-----+\n",
            "only showing top 5 rows\n",
            "\n"
          ]
        }
      ]
    },
    {
      "cell_type": "code",
      "source": [
        "df=df.drop('flight')"
      ],
      "metadata": {
        "id": "jgedxlJ4FiIL"
      },
      "execution_count": 17,
      "outputs": []
    },
    {
      "cell_type": "code",
      "source": [
        "import numpy as np\n",
        "import pandas as pd"
      ],
      "metadata": {
        "id": "UiLGif1nF_47"
      },
      "execution_count": 12,
      "outputs": []
    },
    {
      "cell_type": "code",
      "source": [
        "df =df.dropna()"
      ],
      "metadata": {
        "id": "tdcUEiIDGTit"
      },
      "execution_count": 18,
      "outputs": []
    },
    {
      "cell_type": "code",
      "source": [
        "df.count()"
      ],
      "metadata": {
        "colab": {
          "base_uri": "https://localhost:8080/"
        },
        "id": "AZKQNpP8TH0x",
        "outputId": "4c32a01f-bd7c-41cd-b5a4-9cdb0c3d65c0"
      },
      "execution_count": 19,
      "outputs": [
        {
          "output_type": "execute_result",
          "data": {
            "text/plain": [
              "258289"
            ]
          },
          "metadata": {},
          "execution_count": 19
        }
      ]
    },
    {
      "cell_type": "code",
      "source": [
        "df.show(5)"
      ],
      "metadata": {
        "colab": {
          "base_uri": "https://localhost:8080/"
        },
        "id": "yPHFrVuhTLo3",
        "outputId": "702d8ec7-3e41-4b97-eac5-4a708544a283"
      },
      "execution_count": 20,
      "outputs": [
        {
          "output_type": "stream",
          "name": "stdout",
          "text": [
            "+---+---+---+-------+---+----+------+--------+-----+\n",
            "|mon|dom|dow|carrier|org|mile|depart|duration|delay|\n",
            "+---+---+---+-------+---+----+------+--------+-----+\n",
            "| 10| 10|  1|     OO|ORD| 157|  8.18|      51|   27|\n",
            "| 11| 22|  1|     OO|ORD| 738|  7.17|     127|  -19|\n",
            "|  2| 14|  5|     B6|JFK|2248| 21.17|     365|   60|\n",
            "|  5| 25|  3|     WN|SJC| 386| 12.92|      85|   22|\n",
            "|  3| 28|  1|     B6|LGA|1076| 13.33|     182|   70|\n",
            "+---+---+---+-------+---+----+------+--------+-----+\n",
            "only showing top 5 rows\n",
            "\n"
          ]
        }
      ]
    },
    {
      "cell_type": "code",
      "source": [
        "from pyspark.sql.functions import round\n",
        "from pyspark.ml.feature import StringIndexer\n",
        "from pyspark.ml.feature import VectorAssembler\n",
        "from pyspark.ml.classification import DecisionTreeClassifier\n",
        "from pyspark.ml.classification import LogisticRegression\n",
        "from pyspark.ml.evaluation import MulticlassClassificationEvaluator, BinaryClassificationEvaluator"
      ],
      "metadata": {
        "id": "ye-KIT-aW-M1"
      },
      "execution_count": 21,
      "outputs": []
    },
    {
      "cell_type": "code",
      "source": [
        "from pyspark.ml.stat import Correlation"
      ],
      "metadata": {
        "id": "k-i6GAqIRsjj"
      },
      "execution_count": 22,
      "outputs": []
    },
    {
      "cell_type": "code",
      "source": [
        "df=StringIndexer(inputCol='carrier', outputCol='carrier_int').fit(df).transform(df)"
      ],
      "metadata": {
        "id": "_EugOui-ZJxr"
      },
      "execution_count": 23,
      "outputs": []
    },
    {
      "cell_type": "code",
      "source": [
        "df=StringIndexer(inputCol='org', outputCol='org_int').fit(df).transform(df)"
      ],
      "metadata": {
        "id": "61LaaWAmaPlr"
      },
      "execution_count": 24,
      "outputs": []
    },
    {
      "cell_type": "code",
      "source": [
        "df = df.withColumn('label', (df.delay > 15).cast('integer'))"
      ],
      "metadata": {
        "id": "7VO4ksU78O6R"
      },
      "execution_count": 27,
      "outputs": []
    },
    {
      "cell_type": "code",
      "source": [
        "df.show(5)"
      ],
      "metadata": {
        "colab": {
          "base_uri": "https://localhost:8080/"
        },
        "id": "7oagGB1zaWBm",
        "outputId": "0c5c1106-f7f4-4c00-9ede-fcdba594e91e"
      },
      "execution_count": 29,
      "outputs": [
        {
          "output_type": "stream",
          "name": "stdout",
          "text": [
            "+---+---+---+-------+---+----+------+--------+-----+-----------+-------+-----+\n",
            "|mon|dom|dow|carrier|org|mile|depart|duration|delay|carrier_int|org_int|label|\n",
            "+---+---+---+-------+---+----+------+--------+-----+-----------+-------+-----+\n",
            "| 10| 10|  1|     OO|ORD| 157|  8.18|      51|   27|        2.0|    0.0|    1|\n",
            "| 11| 22|  1|     OO|ORD| 738|  7.17|     127|  -19|        2.0|    0.0|    0|\n",
            "|  2| 14|  5|     B6|JFK|2248| 21.17|     365|   60|        4.0|    2.0|    1|\n",
            "|  5| 25|  3|     WN|SJC| 386| 12.92|      85|   22|        3.0|    5.0|    1|\n",
            "|  3| 28|  1|     B6|LGA|1076| 13.33|     182|   70|        4.0|    3.0|    1|\n",
            "+---+---+---+-------+---+----+------+--------+-----+-----------+-------+-----+\n",
            "only showing top 5 rows\n",
            "\n"
          ]
        }
      ]
    },
    {
      "cell_type": "code",
      "source": [
        "assembler = VectorAssembler(inputCols=['mon', 'dom', 'dow',\n",
        "'carrier_int', 'org_int', 'mile', 'depart', 'duration'], outputCol='features')\n",
        "# Consolidate predictor columns\n",
        "df_transform = assembler.transform(df)\n",
        "# Check the resulting column\n",
        "# df_transform.select('features', 'delay').show(5, truncate=False)\n",
        "df_transform.select('features', 'delay')"
      ],
      "metadata": {
        "colab": {
          "base_uri": "https://localhost:8080/"
        },
        "id": "GwNaIhDyaXd1",
        "outputId": "db188dec-63d6-4d89-abe2-8bbb95027d31"
      },
      "execution_count": 30,
      "outputs": [
        {
          "output_type": "execute_result",
          "data": {
            "text/plain": [
              "DataFrame[features: vector, delay: int]"
            ]
          },
          "metadata": {},
          "execution_count": 30
        }
      ]
    },
    {
      "cell_type": "code",
      "source": [
        "Correlation.corr(df_transform, 'features').collect()[0][0]"
      ],
      "metadata": {
        "colab": {
          "base_uri": "https://localhost:8080/"
        },
        "id": "Fax0CTZjSeu-",
        "outputId": "b3959e6e-d19d-4566-cba7-0f62da3bee1b"
      },
      "execution_count": 35,
      "outputs": [
        {
          "output_type": "stream",
          "name": "stderr",
          "text": [
            "/usr/local/lib/python3.7/dist-packages/pyspark/sql/context.py:127: FutureWarning: Deprecated in 3.0.0. Use SparkSession.builder.getOrCreate() instead.\n",
            "  FutureWarning\n"
          ]
        },
        {
          "output_type": "execute_result",
          "data": {
            "text/plain": [
              "DenseMatrix(8, 8, [1.0, 0.0113, -0.0182, 0.0285, 0.0092, -0.0135, -0.0143, -0.0105, ..., -0.0105, 0.0002, 0.0104, -0.1689, -0.0845, 0.9809, -0.0419, 1.0], False)"
            ]
          },
          "metadata": {},
          "execution_count": 35
        }
      ]
    },
    {
      "cell_type": "code",
      "source": [
        "df_train, df_test = df_transform.randomSplit([0.8, 0.2], seed=52)"
      ],
      "metadata": {
        "id": "IbuWy-QtawXE"
      },
      "execution_count": 36,
      "outputs": []
    },
    {
      "cell_type": "code",
      "source": [
        "df_train.show(5)"
      ],
      "metadata": {
        "colab": {
          "base_uri": "https://localhost:8080/"
        },
        "id": "1RaXqEl2bVVx",
        "outputId": "e2f052f6-5f60-4b67-cea8-c29a22d64aeb"
      },
      "execution_count": 37,
      "outputs": [
        {
          "output_type": "stream",
          "name": "stdout",
          "text": [
            "+---+---+---+-------+---+----+------+--------+-----+-----------+-------+-----+--------------------+\n",
            "|mon|dom|dow|carrier|org|mile|depart|duration|delay|carrier_int|org_int|label|            features|\n",
            "+---+---+---+-------+---+----+------+--------+-----+-----------+-------+-----+--------------------+\n",
            "|  0|  1|  2|     AA|JFK| 740| 15.75|     175|   17|        1.0|    2.0|    1|[0.0,1.0,2.0,1.0,...|\n",
            "|  0|  1|  2|     AA|JFK| 944| 15.75|     185|   16|        1.0|    2.0|    1|[0.0,1.0,2.0,1.0,...|\n",
            "|  0|  1|  2|     AA|JFK|1391| 14.92|     245|    6|        1.0|    2.0|    0|[0.0,1.0,2.0,1.0,...|\n",
            "|  0|  1|  2|     AA|JFK|1597|  6.58|     230|   50|        1.0|    2.0|    1|[0.0,1.0,2.0,1.0,...|\n",
            "|  0|  1|  2|     AA|JFK|1597|  13.5|     225|    1|        1.0|    2.0|    0|[0.0,1.0,2.0,1.0,...|\n",
            "+---+---+---+-------+---+----+------+--------+-----+-----------+-------+-----+--------------------+\n",
            "only showing top 5 rows\n",
            "\n"
          ]
        }
      ]
    },
    {
      "cell_type": "code",
      "source": [
        "training_ratio = df_train.count() / df.count()\n",
        "print(training_ratio)"
      ],
      "metadata": {
        "colab": {
          "base_uri": "https://localhost:8080/"
        },
        "id": "uf-cLesgbXvz",
        "outputId": "c589814f-e162-49ff-a62e-15950428d6fc"
      },
      "execution_count": 38,
      "outputs": [
        {
          "output_type": "stream",
          "name": "stdout",
          "text": [
            "0.8013349387701373\n"
          ]
        }
      ]
    },
    {
      "cell_type": "code",
      "source": [
        "model = DecisionTreeClassifier()\n",
        "model_fit = model.fit(df_train)\n",
        "prediction = model_fit.transform(df_test)\n",
        "prediction.select('label', 'prediction', 'probability').show(5, False)"
      ],
      "metadata": {
        "colab": {
          "base_uri": "https://localhost:8080/"
        },
        "id": "9y0VezteboGx",
        "outputId": "6ac61abe-c77e-480b-ff61-d93622c7ed35"
      },
      "execution_count": 39,
      "outputs": [
        {
          "output_type": "stream",
          "name": "stdout",
          "text": [
            "+-----+----------+---------------------------------------+\n",
            "|label|prediction|probability                            |\n",
            "+-----+----------+---------------------------------------+\n",
            "|0    |1.0       |[0.3776145354280482,0.6223854645719518]|\n",
            "|0    |1.0       |[0.3776145354280482,0.6223854645719518]|\n",
            "|1    |1.0       |[0.3776145354280482,0.6223854645719518]|\n",
            "|0    |1.0       |[0.3776145354280482,0.6223854645719518]|\n",
            "|1    |1.0       |[0.3776145354280482,0.6223854645719518]|\n",
            "+-----+----------+---------------------------------------+\n",
            "only showing top 5 rows\n",
            "\n"
          ]
        }
      ]
    },
    {
      "cell_type": "code",
      "source": [
        "prediction.groupBy('label', 'prediction').count().show()\n",
        "\n",
        "# Calculate the elements of the confusion matrix\n",
        "TN = prediction.filter('prediction = 0 AND label = prediction').count()\n",
        "TP = prediction.filter('prediction = 1 AND label = prediction').count()\n",
        "FN = prediction.filter('prediction = 0 AND label != prediction').count()\n",
        "FP = prediction.filter('prediction = 1 AND label != prediction').count()\n",
        "\n",
        "# Accuracy measures the proportion of correct predictions\n",
        "accuracy = (TN + TP) / (TN + TP + FN + FP)\n",
        "print(accuracy)"
      ],
      "metadata": {
        "colab": {
          "base_uri": "https://localhost:8080/"
        },
        "id": "aKBxzXxmcTjE",
        "outputId": "1b7f8a18-3a9d-4cdb-8e15-6440bbbfb06c"
      },
      "execution_count": 40,
      "outputs": [
        {
          "output_type": "stream",
          "name": "stdout",
          "text": [
            "+-----+----------+-----+\n",
            "|label|prediction|count|\n",
            "+-----+----------+-----+\n",
            "|    1|       0.0| 7939|\n",
            "|    0|       0.0|14556|\n",
            "|    1|       1.0|17840|\n",
            "|    0|       1.0|10978|\n",
            "+-----+----------+-----+\n",
            "\n",
            "0.6313409857151209\n"
          ]
        }
      ]
    },
    {
      "cell_type": "code",
      "source": [
        "df_updated = df.drop('depart')\n",
        "df_updated.show(5)"
      ],
      "metadata": {
        "colab": {
          "base_uri": "https://localhost:8080/"
        },
        "id": "mzzw4vZxV1R8",
        "outputId": "5c0a6e77-b225-4038-b68f-3c9a27a0e314"
      },
      "execution_count": 42,
      "outputs": [
        {
          "output_type": "stream",
          "name": "stdout",
          "text": [
            "+---+---+---+-------+---+----+--------+-----+-----------+-------+-----+\n",
            "|mon|dom|dow|carrier|org|mile|duration|delay|carrier_int|org_int|label|\n",
            "+---+---+---+-------+---+----+--------+-----+-----------+-------+-----+\n",
            "| 10| 10|  1|     OO|ORD| 157|      51|   27|        2.0|    0.0|    1|\n",
            "| 11| 22|  1|     OO|ORD| 738|     127|  -19|        2.0|    0.0|    0|\n",
            "|  2| 14|  5|     B6|JFK|2248|     365|   60|        4.0|    2.0|    1|\n",
            "|  5| 25|  3|     WN|SJC| 386|      85|   22|        3.0|    5.0|    1|\n",
            "|  3| 28|  1|     B6|LGA|1076|     182|   70|        4.0|    3.0|    1|\n",
            "+---+---+---+-------+---+----+--------+-----+-----------+-------+-----+\n",
            "only showing top 5 rows\n",
            "\n"
          ]
        }
      ]
    },
    {
      "cell_type": "code",
      "source": [
        "assembler = VectorAssembler(inputCols=['mon', 'dom', 'dow',\n",
        "'carrier_int', 'org_int', 'mile', 'duration'], outputCol='features')\n",
        "# Consolidate predictor columns\n",
        "df_transform1 = assembler.transform(df_updated)\n",
        "# Check the resulting column\n",
        "df_transform1.select('features', 'delay').show(5, truncate=False)\n",
        "#df_transform1.select('features', 'delay')"
      ],
      "metadata": {
        "colab": {
          "base_uri": "https://localhost:8080/"
        },
        "id": "ORcUpd_KXIFm",
        "outputId": "609ae18d-56fe-4038-e8f6-3dd3264a8623"
      },
      "execution_count": 44,
      "outputs": [
        {
          "output_type": "stream",
          "name": "stdout",
          "text": [
            "+-----------------------------------+-----+\n",
            "|features                           |delay|\n",
            "+-----------------------------------+-----+\n",
            "|[10.0,10.0,1.0,2.0,0.0,157.0,51.0] |27   |\n",
            "|[11.0,22.0,1.0,2.0,0.0,738.0,127.0]|-19  |\n",
            "|[2.0,14.0,5.0,4.0,2.0,2248.0,365.0]|60   |\n",
            "|[5.0,25.0,3.0,3.0,5.0,386.0,85.0]  |22   |\n",
            "|[3.0,28.0,1.0,4.0,3.0,1076.0,182.0]|70   |\n",
            "+-----------------------------------+-----+\n",
            "only showing top 5 rows\n",
            "\n"
          ]
        }
      ]
    },
    {
      "cell_type": "code",
      "source": [
        "df_updated_train, df_updated_test = df_transform1.randomSplit([0.8, 0.2], seed=42)"
      ],
      "metadata": {
        "id": "bH3JTT64YH7z"
      },
      "execution_count": 45,
      "outputs": []
    },
    {
      "cell_type": "code",
      "source": [
        "model_new = DecisionTreeClassifier()\n",
        "model_new_fit = model_new.fit(df_updated_train)\n",
        "prediction = model_new_fit.transform(df_updated_test)\n",
        "prediction.select('label', 'prediction', 'probability').show(5, False)"
      ],
      "metadata": {
        "colab": {
          "base_uri": "https://localhost:8080/"
        },
        "id": "fOU8WR-ZXwjn",
        "outputId": "23a74f0d-b20e-4226-d3f7-7cbbef0283f5"
      },
      "execution_count": 49,
      "outputs": [
        {
          "output_type": "stream",
          "name": "stdout",
          "text": [
            "+-----+----------+---------------------------------------+\n",
            "|label|prediction|probability                            |\n",
            "+-----+----------+---------------------------------------+\n",
            "|0    |1.0       |[0.37475178713264495,0.625248212867355]|\n",
            "|0    |1.0       |[0.37475178713264495,0.625248212867355]|\n",
            "|0    |1.0       |[0.37475178713264495,0.625248212867355]|\n",
            "|0    |1.0       |[0.37475178713264495,0.625248212867355]|\n",
            "|0    |1.0       |[0.37475178713264495,0.625248212867355]|\n",
            "+-----+----------+---------------------------------------+\n",
            "only showing top 5 rows\n",
            "\n"
          ]
        }
      ]
    },
    {
      "cell_type": "code",
      "source": [
        "prediction.groupBy('label', 'prediction').count().show()\n",
        "\n",
        "# Calculate the elements of the confusion matrix\n",
        "TN = prediction.filter('prediction = 0 AND label = prediction').count()\n",
        "TP = prediction.filter('prediction = 1 AND label = prediction').count()\n",
        "FN = prediction.filter('prediction = 0 AND label != prediction').count()\n",
        "FP = prediction.filter('prediction = 1 AND label != prediction').count()\n",
        "\n",
        "# Accuracy measures the proportion of correct predictions\n",
        "accuracy = (TN + TP) / (TN + TP + FN + FP)\n",
        "print(accuracy)"
      ],
      "metadata": {
        "colab": {
          "base_uri": "https://localhost:8080/"
        },
        "id": "Fhl7KHt1Yuvd",
        "outputId": "ba96c8fa-6706-4be7-b5e6-21f5b05fe7ff"
      },
      "execution_count": 50,
      "outputs": [
        {
          "output_type": "stream",
          "name": "stdout",
          "text": [
            "+-----+----------+-----+\n",
            "|label|prediction|count|\n",
            "+-----+----------+-----+\n",
            "|    1|       0.0| 7272|\n",
            "|    0|       0.0|13375|\n",
            "|    1|       1.0|18359|\n",
            "|    0|       1.0|12720|\n",
            "+-----+----------+-----+\n",
            "\n",
            "0.6135019139310984\n"
          ]
        }
      ]
    },
    {
      "cell_type": "code",
      "source": [
        "LR = LogisticRegression()\n",
        "model = LR.fit(df_train)\n",
        "prediction = model.transform(df_test)\n",
        "prediction.groupby('label','prediction').count().show(5)"
      ],
      "metadata": {
        "colab": {
          "base_uri": "https://localhost:8080/"
        },
        "id": "emFxsWrk3J9q",
        "outputId": "59c91119-7a0f-4af9-9c4b-f4f64c0ab21c"
      },
      "execution_count": 51,
      "outputs": [
        {
          "output_type": "stream",
          "name": "stdout",
          "text": [
            "+-----+----------+-----+\n",
            "|label|prediction|count|\n",
            "+-----+----------+-----+\n",
            "|    1|       0.0| 9807|\n",
            "|    0|       0.0|15204|\n",
            "|    1|       1.0|15972|\n",
            "|    0|       1.0|10330|\n",
            "+-----+----------+-----+\n",
            "\n"
          ]
        }
      ]
    },
    {
      "cell_type": "code",
      "source": [
        "df.filter('delay > 15').count()"
      ],
      "metadata": {
        "colab": {
          "base_uri": "https://localhost:8080/"
        },
        "id": "k9zuNhTW-g1X",
        "outputId": "d5eea0d0-2a14-4ff6-aa37-d316874b406e"
      },
      "execution_count": null,
      "outputs": [
        {
          "output_type": "execute_result",
          "data": {
            "text/plain": [
              "129062"
            ]
          },
          "metadata": {},
          "execution_count": 73
        }
      ]
    },
    {
      "cell_type": "code",
      "source": [
        "df.filter('delay <= 15').count()"
      ],
      "metadata": {
        "colab": {
          "base_uri": "https://localhost:8080/"
        },
        "id": "FbIX-OpBBPU4",
        "outputId": "def3fabd-3745-4d95-e3df-dde37b2c8e82"
      },
      "execution_count": null,
      "outputs": [
        {
          "output_type": "execute_result",
          "data": {
            "text/plain": [
              "129227"
            ]
          },
          "metadata": {},
          "execution_count": 74
        }
      ]
    },
    {
      "cell_type": "code",
      "source": [
        "df.select('mile').show()"
      ],
      "metadata": {
        "colab": {
          "base_uri": "https://localhost:8080/"
        },
        "id": "pRve51fXCGQn",
        "outputId": "187503fd-de68-41d0-aa72-268a174d99c7"
      },
      "execution_count": null,
      "outputs": [
        {
          "output_type": "stream",
          "name": "stdout",
          "text": [
            "+----+\n",
            "|mile|\n",
            "+----+\n",
            "| 157|\n",
            "| 738|\n",
            "|2248|\n",
            "| 386|\n",
            "|1076|\n",
            "| 740|\n",
            "| 679|\n",
            "| 214|\n",
            "|1197|\n",
            "|1182|\n",
            "|1090|\n",
            "|1028|\n",
            "| 733|\n",
            "| 733|\n",
            "| 292|\n",
            "| 612|\n",
            "| 301|\n",
            "| 414|\n",
            "|1846|\n",
            "| 337|\n",
            "+----+\n",
            "only showing top 20 rows\n",
            "\n"
          ]
        }
      ]
    },
    {
      "cell_type": "code",
      "source": [
        ""
      ],
      "metadata": {
        "id": "9YAyrNToCYcD"
      },
      "execution_count": null,
      "outputs": []
    }
  ]
}